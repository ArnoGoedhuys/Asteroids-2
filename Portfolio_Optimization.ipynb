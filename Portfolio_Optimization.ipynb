{
 "cells": [
  {
   "cell_type": "markdown",
   "metadata": {},
   "source": [
    "## Portfolio Optimalization - Asset Management\n",
    "#### Arno Goedhuys /  r0636556 / 29 juni 2017"
   ]
  },
  {
   "cell_type": "code",
   "execution_count": 923,
   "metadata": {
    "collapsed": true
   },
   "outputs": [],
   "source": [
    "import numpy as np\n",
    "import pandas as pd\n",
    "from pandas_datareader import data as wb\n",
    "import matplotlib.pyplot as plt\n",
    "from scipy import optimize\n",
    "from scipy.stats import norm\n",
    "from scipy import interpolate\n",
    "%matplotlib inline"
   ]
  },
  {
   "cell_type": "markdown",
   "metadata": {},
   "source": [
    "#### Downloading the data\n",
    "The data is downloaded from google finance. \n",
    "<p> The time interval runs from the first of january 2009 to the current date."
   ]
  },
  {
   "cell_type": "code",
   "execution_count": 1094,
   "metadata": {},
   "outputs": [
    {
     "name": "stdout",
     "output_type": "stream",
     "text": [
      "amount of assets:  29\n"
     ]
    }
   ],
   "source": [
    "assets = ['SBUX','GOOGL','ADBE','TRV','UNH','VZ','WMT','GS','DD','AXP','AAPL','MSFT','AMZN','YHOO','KO','CSCO','JPM','UTX','V','MCD','DIS', 'NKE','INTC','GE', 'PG', 'JNJ','HD','IBM','MMM']\n",
    "amount_of_assets = len(assets)\n",
    "print 'amount of assets: ', amount_of_assets\n",
    "#amount_of_assets = 5\n",
    "pf_data = pd.DataFrame()\n",
    "\n",
    "for asset in assets:\n",
    "    pf_data[asset] = wb.DataReader(asset, data_source = 'google', start='2009-1-1')['Close']"
   ]
  },
  {
   "cell_type": "code",
   "execution_count": 1095,
   "metadata": {},
   "outputs": [
    {
     "data": {
      "text/html": [
       "<div>\n",
       "<style>\n",
       "    .dataframe thead tr:only-child th {\n",
       "        text-align: right;\n",
       "    }\n",
       "\n",
       "    .dataframe thead th {\n",
       "        text-align: left;\n",
       "    }\n",
       "\n",
       "    .dataframe tbody tr th {\n",
       "        vertical-align: top;\n",
       "    }\n",
       "</style>\n",
       "<table border=\"1\" class=\"dataframe\">\n",
       "  <thead>\n",
       "    <tr style=\"text-align: right;\">\n",
       "      <th></th>\n",
       "      <th>SBUX</th>\n",
       "      <th>GOOGL</th>\n",
       "      <th>ADBE</th>\n",
       "      <th>TRV</th>\n",
       "      <th>UNH</th>\n",
       "      <th>VZ</th>\n",
       "      <th>WMT</th>\n",
       "      <th>GS</th>\n",
       "      <th>DD</th>\n",
       "      <th>AXP</th>\n",
       "      <th>...</th>\n",
       "      <th>MCD</th>\n",
       "      <th>DIS</th>\n",
       "      <th>NKE</th>\n",
       "      <th>INTC</th>\n",
       "      <th>GE</th>\n",
       "      <th>PG</th>\n",
       "      <th>JNJ</th>\n",
       "      <th>HD</th>\n",
       "      <th>IBM</th>\n",
       "      <th>MMM</th>\n",
       "    </tr>\n",
       "    <tr>\n",
       "      <th>Date</th>\n",
       "      <th></th>\n",
       "      <th></th>\n",
       "      <th></th>\n",
       "      <th></th>\n",
       "      <th></th>\n",
       "      <th></th>\n",
       "      <th></th>\n",
       "      <th></th>\n",
       "      <th></th>\n",
       "      <th></th>\n",
       "      <th></th>\n",
       "      <th></th>\n",
       "      <th></th>\n",
       "      <th></th>\n",
       "      <th></th>\n",
       "      <th></th>\n",
       "      <th></th>\n",
       "      <th></th>\n",
       "      <th></th>\n",
       "      <th></th>\n",
       "      <th></th>\n",
       "    </tr>\n",
       "  </thead>\n",
       "  <tbody>\n",
       "    <tr>\n",
       "      <th>2017-07-19</th>\n",
       "      <td>58.11</td>\n",
       "      <td>992.77</td>\n",
       "      <td>148.92</td>\n",
       "      <td>126.46</td>\n",
       "      <td>189.19</td>\n",
       "      <td>43.45</td>\n",
       "      <td>75.87</td>\n",
       "      <td>222.87</td>\n",
       "      <td>85.35</td>\n",
       "      <td>85.93</td>\n",
       "      <td>...</td>\n",
       "      <td>153.89</td>\n",
       "      <td>106.82</td>\n",
       "      <td>57.77</td>\n",
       "      <td>34.56</td>\n",
       "      <td>26.94</td>\n",
       "      <td>88.35</td>\n",
       "      <td>135.21</td>\n",
       "      <td>153.30</td>\n",
       "      <td>147.53</td>\n",
       "      <td>212.10</td>\n",
       "    </tr>\n",
       "    <tr>\n",
       "      <th>2017-07-20</th>\n",
       "      <td>58.03</td>\n",
       "      <td>992.19</td>\n",
       "      <td>149.94</td>\n",
       "      <td>124.57</td>\n",
       "      <td>191.50</td>\n",
       "      <td>44.22</td>\n",
       "      <td>76.02</td>\n",
       "      <td>222.30</td>\n",
       "      <td>84.83</td>\n",
       "      <td>85.35</td>\n",
       "      <td>...</td>\n",
       "      <td>154.21</td>\n",
       "      <td>107.36</td>\n",
       "      <td>59.10</td>\n",
       "      <td>34.75</td>\n",
       "      <td>26.69</td>\n",
       "      <td>88.60</td>\n",
       "      <td>136.57</td>\n",
       "      <td>147.03</td>\n",
       "      <td>147.66</td>\n",
       "      <td>212.45</td>\n",
       "    </tr>\n",
       "    <tr>\n",
       "      <th>2017-07-21</th>\n",
       "      <td>57.98</td>\n",
       "      <td>993.84</td>\n",
       "      <td>149.52</td>\n",
       "      <td>125.15</td>\n",
       "      <td>191.78</td>\n",
       "      <td>44.23</td>\n",
       "      <td>76.15</td>\n",
       "      <td>220.18</td>\n",
       "      <td>84.54</td>\n",
       "      <td>85.59</td>\n",
       "      <td>...</td>\n",
       "      <td>153.92</td>\n",
       "      <td>107.09</td>\n",
       "      <td>59.95</td>\n",
       "      <td>34.73</td>\n",
       "      <td>25.91</td>\n",
       "      <td>88.61</td>\n",
       "      <td>135.31</td>\n",
       "      <td>146.65</td>\n",
       "      <td>147.08</td>\n",
       "      <td>211.16</td>\n",
       "    </tr>\n",
       "    <tr>\n",
       "      <th>2017-07-24</th>\n",
       "      <td>58.02</td>\n",
       "      <td>998.31</td>\n",
       "      <td>149.53</td>\n",
       "      <td>126.38</td>\n",
       "      <td>190.89</td>\n",
       "      <td>43.71</td>\n",
       "      <td>76.89</td>\n",
       "      <td>218.18</td>\n",
       "      <td>84.35</td>\n",
       "      <td>85.00</td>\n",
       "      <td>...</td>\n",
       "      <td>151.85</td>\n",
       "      <td>107.00</td>\n",
       "      <td>58.95</td>\n",
       "      <td>34.50</td>\n",
       "      <td>25.43</td>\n",
       "      <td>88.18</td>\n",
       "      <td>133.01</td>\n",
       "      <td>144.58</td>\n",
       "      <td>145.99</td>\n",
       "      <td>210.00</td>\n",
       "    </tr>\n",
       "    <tr>\n",
       "      <th>2017-07-25</th>\n",
       "      <td>58.55</td>\n",
       "      <td>969.03</td>\n",
       "      <td>148.21</td>\n",
       "      <td>127.46</td>\n",
       "      <td>190.40</td>\n",
       "      <td>43.98</td>\n",
       "      <td>78.52</td>\n",
       "      <td>221.58</td>\n",
       "      <td>85.49</td>\n",
       "      <td>85.41</td>\n",
       "      <td>...</td>\n",
       "      <td>159.07</td>\n",
       "      <td>106.42</td>\n",
       "      <td>59.39</td>\n",
       "      <td>34.67</td>\n",
       "      <td>25.44</td>\n",
       "      <td>89.14</td>\n",
       "      <td>131.88</td>\n",
       "      <td>146.97</td>\n",
       "      <td>146.19</td>\n",
       "      <td>199.39</td>\n",
       "    </tr>\n",
       "  </tbody>\n",
       "</table>\n",
       "<p>5 rows × 29 columns</p>\n",
       "</div>"
      ],
      "text/plain": [
       "             SBUX   GOOGL    ADBE     TRV     UNH     VZ    WMT      GS  \\\n",
       "Date                                                                      \n",
       "2017-07-19  58.11  992.77  148.92  126.46  189.19  43.45  75.87  222.87   \n",
       "2017-07-20  58.03  992.19  149.94  124.57  191.50  44.22  76.02  222.30   \n",
       "2017-07-21  57.98  993.84  149.52  125.15  191.78  44.23  76.15  220.18   \n",
       "2017-07-24  58.02  998.31  149.53  126.38  190.89  43.71  76.89  218.18   \n",
       "2017-07-25  58.55  969.03  148.21  127.46  190.40  43.98  78.52  221.58   \n",
       "\n",
       "               DD    AXP   ...       MCD     DIS    NKE   INTC     GE     PG  \\\n",
       "Date                       ...                                                 \n",
       "2017-07-19  85.35  85.93   ...    153.89  106.82  57.77  34.56  26.94  88.35   \n",
       "2017-07-20  84.83  85.35   ...    154.21  107.36  59.10  34.75  26.69  88.60   \n",
       "2017-07-21  84.54  85.59   ...    153.92  107.09  59.95  34.73  25.91  88.61   \n",
       "2017-07-24  84.35  85.00   ...    151.85  107.00  58.95  34.50  25.43  88.18   \n",
       "2017-07-25  85.49  85.41   ...    159.07  106.42  59.39  34.67  25.44  89.14   \n",
       "\n",
       "               JNJ      HD     IBM     MMM  \n",
       "Date                                        \n",
       "2017-07-19  135.21  153.30  147.53  212.10  \n",
       "2017-07-20  136.57  147.03  147.66  212.45  \n",
       "2017-07-21  135.31  146.65  147.08  211.16  \n",
       "2017-07-24  133.01  144.58  145.99  210.00  \n",
       "2017-07-25  131.88  146.97  146.19  199.39  \n",
       "\n",
       "[5 rows x 29 columns]"
      ]
     },
     "execution_count": 1095,
     "metadata": {},
     "output_type": "execute_result"
    }
   ],
   "source": [
    "amount_of_trading_days = len(pf_data.index)\n",
    "pf_data.tail()"
   ]
  },
  {
   "cell_type": "markdown",
   "metadata": {},
   "source": [
    "#### Normalize data\n",
    "Devide each value of each asset by its initial value and multipy by 100 so each asset starts with a value of 100. <p> Plot the evolution of each asset."
   ]
  },
  {
   "cell_type": "code",
   "execution_count": 1096,
   "metadata": {},
   "outputs": [
    {
     "data": {
      "text/plain": [
       "<matplotlib.axes._subplots.AxesSubplot at 0x7eb9be80>"
      ]
     },
     "execution_count": 1096,
     "metadata": {},
     "output_type": "execute_result"
    },
    {
     "data": {
      "image/png": "[encoded data removed]",
      "text/plain": [
       "<matplotlib.figure.Figure at 0x7f35a8d0>"
      ]
     },
     "metadata": {},
     "output_type": "display_data"
    }
   ],
   "source": [
    "normalized_data = pf_data / pf_data.iloc[0] * 100\n",
    "(normalized_data).plot(figsize=(10,5))"
   ]
  },
  {
   "cell_type": "code",
   "execution_count": 1097,
   "metadata": {},
   "outputs": [
    {
     "name": "stdout",
     "output_type": "stream",
     "text": [
      "1723\n"
     ]
    },
    {
     "data": {
      "text/plain": [
       "<matplotlib.axes._subplots.AxesSubplot at 0x7f26e0f0>"
      ]
     },
     "execution_count": 1097,
     "metadata": {},
     "output_type": "execute_result"
    },
    {
     "data": {
      "image/png": "[encoded data removed]",
      "text/plain": [
       "<matplotlib.figure.Figure at 0x8088bb00>"
      ]
     },
     "metadata": {},
     "output_type": "display_data"
    }
   ],
   "source": [
    "probabilities = [x for x in range(len(normalized_data))]\n",
    "daily_returns1 = np.log(normalized_data / normalized_data.shift(1))\n",
    "daily_returns2 = daily_returns1.sample(frac=0.8,weights = probabilities)\n",
    "amount_of_trading_days = len(normalized_data.index)\n",
    "daily_returns = daily_returns2.sort_index(ascending = True)\n",
    "print len(daily_returns) #daily_returns.tail(), len(daily_returns), daily_returns1.tail(20)\n",
    "(daily_returns).plot(figsize=(10,5))"
   ]
  },
  {
   "cell_type": "code",
   "execution_count": 1098,
   "metadata": {},
   "outputs": [
    {
     "data": {
      "text/html": [
       "<div>\n",
       "<style>\n",
       "    .dataframe thead tr:only-child th {\n",
       "        text-align: right;\n",
       "    }\n",
       "\n",
       "    .dataframe thead th {\n",
       "        text-align: left;\n",
       "    }\n",
       "\n",
       "    .dataframe tbody tr th {\n",
       "        vertical-align: top;\n",
       "    }\n",
       "</style>\n",
       "<table border=\"1\" class=\"dataframe\">\n",
       "  <thead>\n",
       "    <tr style=\"text-align: right;\">\n",
       "      <th></th>\n",
       "      <th>0</th>\n",
       "      <th>1</th>\n",
       "      <th>2</th>\n",
       "      <th>3</th>\n",
       "      <th>4</th>\n",
       "    </tr>\n",
       "  </thead>\n",
       "  <tbody>\n",
       "    <tr>\n",
       "      <th>2</th>\n",
       "      <td>2</td>\n",
       "      <td>7</td>\n",
       "      <td>12</td>\n",
       "      <td>17</td>\n",
       "      <td>22</td>\n",
       "    </tr>\n",
       "    <tr>\n",
       "      <th>3</th>\n",
       "      <td>3</td>\n",
       "      <td>8</td>\n",
       "      <td>13</td>\n",
       "      <td>18</td>\n",
       "      <td>23</td>\n",
       "    </tr>\n",
       "    <tr>\n",
       "      <th>1</th>\n",
       "      <td>1</td>\n",
       "      <td>6</td>\n",
       "      <td>11</td>\n",
       "      <td>16</td>\n",
       "      <td>21</td>\n",
       "    </tr>\n",
       "  </tbody>\n",
       "</table>\n",
       "</div>"
      ],
      "text/plain": [
       "   0  1   2   3   4\n",
       "2  2  7  12  17  22\n",
       "3  3  8  13  18  23\n",
       "1  1  6  11  16  21"
      ]
     },
     "execution_count": 1098,
     "metadata": {},
     "output_type": "execute_result"
    }
   ],
   "source": [
    "df = pd.DataFrame()\n",
    "k=0\n",
    "for i in range(5):\n",
    "    df[i] = [k,k+1,k+2,k+3,k+4]\n",
    "    k+=5\n",
    "df.sample(frac=0.5)"
   ]
  },
  {
   "cell_type": "markdown",
   "metadata": {},
   "source": [
    "#### Calculate the return and risk of a portfolio given the portfolio's assets and their respective weights\n",
    "A function to generate a given amount of random weights while making sure the sum of the weights equals 1."
   ]
  },
  {
   "cell_type": "code",
   "execution_count": 1099,
   "metadata": {},
   "outputs": [
    {
     "name": "stdout",
     "output_type": "stream",
     "text": [
      "[ 0.04045368  0.04933055  0.0295943   0.01173751  0.04601289  0.07018578\n",
      "  0.0339377   0.02013599  0.0305748   0.05139417  0.00640109  0.07213489\n",
      "  0.06432697  0.00151081  0.06205758  0.01525226  0.0256796   0.00768932\n",
      "  0.01263768  0.03059274  0.07002925  0.06977999  0.00975265  0.04143989\n",
      "  0.05134995  0.0032407   0.02805898  0.00951262  0.03519566]\n"
     ]
    }
   ],
   "source": [
    "def gen_random_weights(amount):\n",
    "    weights = np.random.random(amount)\n",
    "    weights /= np.sum(weights)\n",
    "    return weights\n",
    "print gen_random_weights(amount_of_assets)"
   ]
  },
  {
   "cell_type": "markdown",
   "metadata": {},
   "source": [
    "A function to calculate the expected annual return of the portfolio.\n",
    "The expected annual return of a portfolio can be calculated as: $$ p = w^T*E(r) $$\n",
    "Where w is the weights of the respective portfolios and E(r) the expected anual returns of the assets.\n",
    "The expected anual return of an individual asset is calculated as the expected daily return times 252 which is the amount of trading days. The expected daily return is calculated as the expected value of the logarithm of the assets current value devided by its previous value. So the expected anual return of an asset is given by: $$ E(r) = 252 * E(\\log(P_i/P_{i+1})) $$\n",
    "Where $P_i$ represents the assets price on day i and $P_{i+1}$ the assets price on day i+1."
   ]
  },
  {
   "cell_type": "code",
   "execution_count": 1100,
   "metadata": {},
   "outputs": [
    {
     "data": {
      "text/plain": [
       "0.1297652775253224"
      ]
     },
     "execution_count": 1100,
     "metadata": {},
     "output_type": "execute_result"
    }
   ],
   "source": [
    "def portfolio_return(D_returns, weights):\n",
    "    annual_returns = D_returns.mean() * 252\n",
    "    total_return = np.sum(annual_returns * weights)\n",
    "    return total_return\n",
    "\n",
    "portfolio_return(daily_returns, gen_random_weights(amount_of_assets))\n"
   ]
  },
  {
   "cell_type": "markdown",
   "metadata": {},
   "source": [
    "A function to calculate the expected volatility of a portfolio. The volatility is modelled as the standard deviation of portfolios returns. This be calculated as: $$ \\sigma^2 = w^T*C*w $$\n",
    "Where w is again the weights of the assets and C is the covariance matrix of the returns."
   ]
  },
  {
   "cell_type": "code",
   "execution_count": 1101,
   "metadata": {},
   "outputs": [
    {
     "data": {
      "text/plain": [
       "0.14338264739271125"
      ]
     },
     "execution_count": 1101,
     "metadata": {},
     "output_type": "execute_result"
    }
   ],
   "source": [
    "def portfolio_volatility(D_returns, weights):\n",
    "    cov_matrix = D_returns.cov() * 252\n",
    "    total_volatility = np.sqrt(np.dot(weights.T,np.dot(cov_matrix, weights)))\n",
    "    return total_volatility\n",
    "\n",
    "portfolio_volatility(daily_returns, gen_random_weights(amount_of_assets))"
   ]
  },
  {
   "cell_type": "code",
   "execution_count": 1102,
   "metadata": {},
   "outputs": [
    {
     "name": "stdout",
     "output_type": "stream",
     "text": [
      "[ 5.84e-02  2.54e-02  2.99e-02  1.73e-02  2.04e-02  1.29e-02  1.30e-02 ... ]\n",
      "[ 2.54e-02  5.63e-02  2.75e-02  1.42e-02  1.80e-02  1.17e-02  9.44e-03 ... ]\n",
      "[ 2.99e-02  2.75e-02  7.33e-02  1.97e-02  2.07e-02  1.27e-02  1.16e-02 ... ]\n",
      "[ 1.73e-02  1.42e-02  1.97e-02  3.30e-02  1.79e-02  1.23e-02  1.07e-02 ... ]\n",
      "[ 2.04e-02  1.80e-02  2.07e-02  1.79e-02  5.57e-02  1.00e-02  1.09e-02 ... ]\n",
      "[ 1.29e-02  1.17e-02  1.27e-02  1.23e-02  1.00e-02  2.75e-02  9.49e-03 ... ]\n",
      "[ 1.30e-02  9.44e-03  1.16e-02  1.07e-02  1.09e-02  9.49e-03  2.77e-02 ... ]\n",
      "[ 2.60e-02  2.51e-02  3.28e-02  2.60e-02  2.47e-02  1.46e-02  1.21e-02 ... ]\n",
      "[ 2.25e-02  1.91e-02  2.53e-02  1.90e-02  1.91e-02  1.40e-02  1.06e-02 ... ]\n",
      "[ 2.63e-02  2.19e-02  2.77e-02  1.98e-02  2.23e-02  1.37e-02  1.19e-02 ... ]\n",
      "[ 2.26e-02  2.44e-02  2.29e-02  1.27e-02  1.73e-02  1.05e-02  8.87e-03 ... ]\n",
      "[ 2.37e-02  2.48e-02  2.89e-02  1.70e-02  1.82e-02  1.33e-02  1.12e-02 ... ]\n",
      "[ 3.15e-02  3.83e-02  3.28e-02  1.66e-02  2.01e-02  1.23e-02  9.38e-03 ... ]\n",
      "[ 2.66e-02  2.92e-02  2.98e-02  1.84e-02  2.08e-02  1.13e-02  1.14e-02 ... ]\n",
      "[ 1.27e-02  1.10e-02  1.42e-02  1.30e-02  1.13e-02  1.03e-02  8.84e-03 ... ]\n",
      "[ 2.36e-02  2.14e-02  2.78e-02  1.77e-02  1.77e-02  1.18e-02  1.18e-02 ... ]\n",
      "[ 2.72e-02  2.39e-02  3.25e-02  2.81e-02  2.61e-02  1.58e-02  1.38e-02 ... ]\n",
      "[ 2.18e-02  1.95e-02  2.45e-02  1.81e-02  1.98e-02  1.33e-02  1.17e-02 ... ]\n",
      "[ 2.46e-02  2.41e-02  2.76e-02  1.70e-02  1.83e-02  1.20e-02  1.03e-02 ... ]\n",
      "[ 1.69e-02  1.24e-02  1.48e-02  1.21e-02  1.11e-02  8.79e-03  8.39e-03 ... ]\n",
      "[ 2.52e-02  2.07e-02  2.80e-02  1.97e-02  1.99e-02  1.39e-02  1.29e-02 ... ]\n",
      "[ 2.72e-02  1.97e-02  2.52e-02  1.47e-02  1.82e-02  1.17e-02  1.14e-02 ... ]\n",
      "[ 2.13e-02  1.96e-02  2.63e-02  1.70e-02  1.72e-02  1.28e-02  1.01e-02 ... ]\n",
      "[ 2.46e-02  2.01e-02  2.65e-02  1.95e-02  2.13e-02  1.64e-02  1.21e-02 ... ]\n",
      "[ 1.28e-02  1.10e-02  1.29e-02  1.21e-02  1.05e-02  1.01e-02  9.43e-03 ... ]\n",
      "[ 1.35e-02  1.22e-02  1.51e-02  1.23e-02  1.35e-02  1.03e-02  8.68e-03 ... ]\n",
      "[ 2.51e-02  1.82e-02  2.35e-02  1.61e-02  1.83e-02  1.21e-02  1.32e-02 ... ]\n",
      "[ 1.77e-02  1.80e-02  2.06e-02  1.50e-02  1.56e-02  1.17e-02  9.43e-03 ... ]\n",
      "[ 2.01e-02  1.84e-02  2.29e-02  1.88e-02  1.74e-02  1.33e-02  1.04e-02 ... ]\n",
      "\n"
     ]
    }
   ],
   "source": [
    "def portfolio_covariance_matrix(D_returns):\n",
    "    annual_returns = D_returns.mean() * 252\n",
    "    cov_matrix = D_returns.cov() * 252\n",
    "    cov_matrix = cov_matrix.values\n",
    "    annual_returns = matrix(annual_returns)\n",
    "    cov_matrix = matrix(cov_matrix)\n",
    "    return cov_matrix\n",
    "print portfolio_covariance_matrix(daily_returns)"
   ]
  },
  {
   "cell_type": "code",
   "execution_count": 1103,
   "metadata": {},
   "outputs": [
    {
     "data": {
      "text/plain": [
       "0.30821326602279181"
      ]
     },
     "execution_count": 1103,
     "metadata": {},
     "output_type": "execute_result"
    }
   ],
   "source": [
    "def max_return(D_returns):\n",
    "    annual_returns = D_returns.mean() * 252\n",
    "    #print annual_returns\n",
    "    return max(annual_returns)\n",
    "max_return(daily_returns)"
   ]
  },
  {
   "cell_type": "markdown",
   "metadata": {},
   "source": [
    "#### Functions to return the parameters that need to be optimized with their weights as variables \n",
    "They are all calculated the same way as their numeric functions previously defined only the weights are variables instead of numeric values. Parameters that have to be maximized are taken negatively because the optimizations look for minimal values and the weights that give the maximal value are the same weights that given the minimal negative value."
   ]
  },
  {
   "cell_type": "markdown",
   "metadata": {},
   "source": [
    "The return in function of the weights."
   ]
  },
  {
   "cell_type": "code",
   "execution_count": 1048,
   "metadata": {
    "collapsed": true
   },
   "outputs": [],
   "source": [
    "def returns(x):\n",
    "    #amount_of_assets = len(normalized_data.columns)\n",
    "    annual_returns = daily_returns.mean() * 252\n",
    "    variable = []\n",
    "    for i in range(amount_of_assets):\n",
    "        variable.append(x[i])\n",
    "    variable = np.array(variable)\n",
    "    return -np.sum(annual_returns * variable)"
   ]
  },
  {
   "cell_type": "markdown",
   "metadata": {},
   "source": [
    "The risk in function of the weights."
   ]
  },
  {
   "cell_type": "code",
   "execution_count": 1049,
   "metadata": {
    "collapsed": true
   },
   "outputs": [],
   "source": [
    "def risk(x):\n",
    "    #amount_of_assets = len(normalized_data.columns)\n",
    "    cov_matrix = daily_returns.cov() * 252\n",
    "    variable = []\n",
    "    for i in range(amount_of_assets):\n",
    "        variable.append(x[i])\n",
    "    variable = np.array(variable)\n",
    "    return np.sqrt(np.dot(variable.T,np.dot(cov_matrix, variable)))\n"
   ]
  },
  {
   "cell_type": "markdown",
   "metadata": {},
   "source": [
    "The sharp ratio in function of the weights. The sharp ratio is the return devided by the risk."
   ]
  },
  {
   "cell_type": "code",
   "execution_count": 1050,
   "metadata": {
    "collapsed": true
   },
   "outputs": [],
   "source": [
    "def sharp(x):\n",
    "    #amount_of_assets = len(normalized_data.columns)\n",
    "    #log_returns = np.log(normalized_data / normalized_data.shift(1))\n",
    "    annual_returns = daily_returns.mean() * 252\n",
    "    cov_matrix = daily_returns.cov() * 252\n",
    "    variable = []\n",
    "    for i in range(amount_of_assets):\n",
    "        variable.append(x[i])\n",
    "    variable = np.array(variable)\n",
    "    return -(np.sum(annual_returns * variable)-risk_free_rate) / (np.sqrt(np.dot(variable.T,np.dot(cov_matrix, variable)))) "
   ]
  },
  {
   "cell_type": "markdown",
   "metadata": {},
   "source": [
    "#### Extra funtions usefull for the optimization\n"
   ]
  },
  {
   "cell_type": "markdown",
   "metadata": {},
   "source": [
    "The contraint for the optimization, that the sum of the weights must be equal to one. "
   ]
  },
  {
   "cell_type": "code",
   "execution_count": 937,
   "metadata": {
    "collapsed": true
   },
   "outputs": [],
   "source": [
    "def constraint1(x):\n",
    "    variable = []\n",
    "    for i in range(amount_of_assets):\n",
    "        variable.append(x[i])\n",
    "    variable = np.array(variable)\n",
    "    return np.sum(variable) - 1"
   ]
  },
  {
   "cell_type": "code",
   "execution_count": 938,
   "metadata": {
    "collapsed": true
   },
   "outputs": [],
   "source": [
    "def constraint3(x):\n",
    "    #log_returns = np.log(normalized_data / normalized_data.shift(1))\n",
    "    annual_returns = daily_returns.mean() * 252\n",
    "    variable = []\n",
    "    for i in range(amount_of_assets):\n",
    "        variable.append(x[i])\n",
    "    variable = np.array(variable)\n",
    "    return -np.sum(annual_returns * variable)-0.2151833"
   ]
  },
  {
   "cell_type": "markdown",
   "metadata": {},
   "source": [
    "A function to generate the valid interval for each weight."
   ]
  },
  {
   "cell_type": "code",
   "execution_count": 939,
   "metadata": {
    "collapsed": true
   },
   "outputs": [],
   "source": [
    "def gen_bounds(amount):\n",
    "    bounds = []\n",
    "    for i in range(amount):\n",
    "        bounds.append((0,0.5))\n",
    "    return bounds"
   ]
  },
  {
   "cell_type": "markdown",
   "metadata": {},
   "source": [
    "Make an initial guess by brute force to give the optimazation a good starting point."
   ]
  },
  {
   "cell_type": "code",
   "execution_count": 908,
   "metadata": {},
   "outputs": [
    {
     "data": {
      "text/plain": [
       "[array([ 0.02587414,  0.07063182,  0.12085082,  0.013769  ,  0.1002123 ,\n",
       "         0.01679498,  0.08498564,  0.0372692 ,  0.14081984,  0.13019245,\n",
       "         0.15786453,  0.10073526]),\n",
       " array([  2.38448372e-03,   1.82096467e-01,   2.69792885e-03,\n",
       "          1.64772136e-01,   1.18818090e-01,   8.35716895e-02,\n",
       "          2.18214391e-01,   5.86501980e-02,   1.03297229e-04,\n",
       "          1.36907922e-01,   2.33693964e-02,   8.41400079e-03]),\n",
       " array([ 0.09361791,  0.10253931,  0.02523048,  0.17052782,  0.17177188,\n",
       "         0.00738114,  0.03125418,  0.0051405 ,  0.07700398,  0.16478029,\n",
       "         0.03275803,  0.1179945 ]),\n",
       " array([ 0.09361791,  0.10253931,  0.02523048,  0.17052782,  0.17177188,\n",
       "         0.00738114,  0.03125418,  0.0051405 ,  0.07700398,  0.16478029,\n",
       "         0.03275803,  0.1179945 , -0.04811935])]"
      ]
     },
     "execution_count": 908,
     "metadata": {},
     "output_type": "execute_result"
    }
   ],
   "source": [
    "def initial_guess(assets, amount_of_samples):\n",
    "    min_risk = 1\n",
    "    min_risk_weights = gen_random_weights(amount_of_assets)\n",
    "    max_sharp = 0\n",
    "    max_sharp_weights = gen_random_weights(amount_of_assets)\n",
    "    max_VaR = -1\n",
    "    max_VaR_weights = gen_random_weights(amount_of_assets)\n",
    "    max_CVaR = -1\n",
    "    max_CVaR_weights = gen_random_weights(amount_of_assets)\n",
    "    for x in range(amount_of_samples):\n",
    "        weights = gen_random_weights(amount_of_assets)\n",
    "        port_risk = portfolio_volatility(assets, weights)\n",
    "        port_return = portfolio_return(assets, weights)\n",
    "        port_VaR = HistoricVaR(assets, weights, 0.05)\n",
    "        port_CVaR = HistoricCVaR(assets, weights, 0.05)\n",
    "        if port_risk < min_risk:\n",
    "            min_risk = port_risk\n",
    "            min_risk_weights = weights\n",
    "        if port_return/port_risk > max_sharp:\n",
    "            max_sharp = port_return/port_risk\n",
    "            max_sharp_weights = weights\n",
    "        if port_VaR > max_VaR:\n",
    "            max_VaR = port_VaR\n",
    "            max_VaR_weights = weights\n",
    "        if port_CVaR > max_CVaR:\n",
    "            max_CVaR = port_CVaR\n",
    "            max_CVaR_weights = weights\n",
    "    var = HistoricVaR(assets, max_CVaR_weights, 0.05)\n",
    "    max_CVaR_weights = np.append(max_CVaR_weights,var)\n",
    "    #print max_CVaR\n",
    "    return [min_risk_weights, max_sharp_weights, max_VaR_weights, max_CVaR_weights]\n",
    "initial_guess(normalized_data,1000)"
   ]
  },
  {
   "cell_type": "markdown",
   "metadata": {},
   "source": [
    "#### The optimizations\n",
    "The optimization for the minimal risk portfolio. The extra constraints that each weight lies between 0 and 0.5 are set by the \n",
    "bounds attribute. The optimization used is the sequantial least squares programming. The site PyOpt explains it as:\n",
    "> SLSQP optimizer is a sequential least squares programming algorithm which uses the Han–Powell quasi–Newton method with a BFGS update of the B–matrix and an L1–test function in the step–length algorithm. The optimizer uses a slightly modified version of Lawson and Hanson’s NNLS nonlinear least-squares solver. \n",
    ">\n",
    "> [PyOpt](http://www.pyopt.org/reference/optimizers.slsqp.html)"
   ]
  },
  {
   "cell_type": "code",
   "execution_count": 1104,
   "metadata": {},
   "outputs": [
    {
     "name": "stdout",
     "output_type": "stream",
     "text": [
      "0.0986936114315\n"
     ]
    }
   ],
   "source": [
    "#minimal_risk_weights = optimize.fmin_slsqp(risk, initial_guess(normalized_data,100)[0].tolist(),eqcons=[constraint1],\n",
    "#                     bounds=gen_bounds(amount_of_assets))\n",
    "minimal_risk_weights = convert_weights(convex_optimizer_weights(daily_returns, 0))\n",
    "return_minimal_risk = portfolio_return(daily_returns, minimal_risk_weights)\n",
    "print return_minimal_risk"
   ]
  },
  {
   "cell_type": "markdown",
   "metadata": {},
   "source": [
    "The optimization for the maximal sharp portfolio. The same algorithm is used as with the minimal risk."
   ]
  },
  {
   "cell_type": "code",
   "execution_count": 1105,
   "metadata": {},
   "outputs": [],
   "source": [
    "#maximal_sharp_weights = optimize.fmin_slsqp(sharp, initial_guess(normalized_data,1000)[1].tolist(),eqcons=[constraint1],\n",
    "#                     bounds=gen_bounds(amount_of_assets))\n",
    "#f = Efficient_Frontier(normalized_data, 300)\n",
    "#g = Efficient_Frontier(new_normalized_data, 300)\n",
    "#def find_intersect(f,g,x0):\n",
    "#     return optimize.fsolve(lambda x : f(x) - g(x),x0)\n",
    "#find_intersect(f,g,0.22)"
   ]
  },
  {
   "cell_type": "markdown",
   "metadata": {},
   "source": [
    "#### The results\n",
    "The two optimized portfolios are plotted on a graph with the x axis the expected risk and the y axis the expected return. To illustrate that these are valid values 25000 other portfolio's with random weights are also plotted on the same graph. Out of the 25000 random portfolio's the one with the minimal risk is selected and returned to verify with the calculated weights, the same is done for the maximal sharp. "
   ]
  },
  {
   "cell_type": "code",
   "execution_count": 1112,
   "metadata": {
    "scrolled": false
   },
   "outputs": [
    {
     "data": {
      "image/png": "[encoded data removed]",
      "text/plain": [
       "<matplotlib.figure.Figure at 0x82bbcc88>"
      ]
     },
     "metadata": {},
     "output_type": "display_data"
    },
    {
     "data": {
      "text/plain": [
       "[array([  1.76021135e-03,   6.00746490e-02,   2.28920150e-02,\n",
       "          5.69240047e-02,   4.10800727e-05,   2.17294425e-02,\n",
       "          7.34165883e-02,   2.11424971e-02,   3.81154524e-02,\n",
       "          1.94441923e-02,   2.82738162e-02,   1.25074872e-03,\n",
       "          1.59867358e-02,   4.88323189e-02,   7.46539398e-02,\n",
       "          1.72199464e-02,   2.65490887e-02,   8.64626123e-03,\n",
       "          2.39210397e-02,   7.26119238e-02,   2.02364067e-02,\n",
       "          3.02968376e-02,   1.28923972e-02,   3.15892675e-02,\n",
       "          5.08613654e-02,   3.26879656e-02,   6.15523970e-02,\n",
       "          6.02370308e-02,   6.61603802e-02]),\n",
       " array([ 0.05694128,  0.05538345,  0.03938661,  0.01226274,  0.04961359,\n",
       "         0.03274157,  0.02515568,  0.04486774,  0.02800281,  0.00142703,\n",
       "         0.0346209 ,  0.0108395 ,  0.09504159,  0.00783108,  0.0071696 ,\n",
       "         0.00085021,  0.03607071,  0.0494123 ,  0.06624448,  0.0669665 ,\n",
       "         0.05319133,  0.03019001,  0.00369262,  0.0175895 ,  0.06301177,\n",
       "         0.05338566,  0.05213002,  0.0046236 ,  0.00135612]),\n",
       " [3.565536106867371e-08,\n",
       "  7.273872989297514e-06,\n",
       "  3.463926741323486e-08,\n",
       "  4.900379453329578e-07,\n",
       "  0.00029021284730065215,\n",
       "  0.10092193084827691,\n",
       "  0.14707313997681584,\n",
       "  3.481897932184586e-08,\n",
       "  7.606436496142204e-08,\n",
       "  8.541025968466914e-08,\n",
       "  0.02677972642134482,\n",
       "  9.127899307491859e-08,\n",
       "  1.6185944795252982e-07,\n",
       "  1.2632355129695638e-06,\n",
       "  0.14990737275307456,\n",
       "  9.358903987525374e-08,\n",
       "  1.784319422859561e-08,\n",
       "  1.244282151164344e-07,\n",
       "  2.1388999908989774e-07,\n",
       "  0.17966151758658275,\n",
       "  4.995924235688093e-08,\n",
       "  1.2629837361787416e-06,\n",
       "  2.851841322380771e-07,\n",
       "  3.358552297372809e-08,\n",
       "  0.1504381971849876,\n",
       "  0.21661291287833187,\n",
       "  2.6714132838085857e-07,\n",
       "  0.02830298221786928,\n",
       "  1.1180788405487222e-07],\n",
       " array([  5.00000000e-01,   0.00000000e+00,   4.26282630e-01,\n",
       "          1.60740807e-04,   7.35566296e-02,   2.07637142e-17])]"
      ]
     },
     "execution_count": 1112,
     "metadata": {},
     "output_type": "execute_result"
    }
   ],
   "source": [
    "def example_plot(D_returns, amount_of_samples):\n",
    "    returns = []\n",
    "    risks = []\n",
    "    amount_of_assets = len(D_returns.columns)\n",
    "    #efficient_risks = np.arange(0.2052,0.245,0.00004)\n",
    "    #efficient_returns = [0 for x in range(len(efficient_risks))]\n",
    "    #new_risk = [0 for x in range(len(efficient_risks))]\n",
    "    min_risk = 1\n",
    "    min_risk_weights = gen_random_weights(amount_of_assets)\n",
    "    max_sharp = 0\n",
    "    max_sharp_weights = gen_random_weights(amount_of_assets)\n",
    "    for x in range(amount_of_samples):\n",
    "        weights = gen_random_weights(amount_of_assets)\n",
    "        port_risk = portfolio_volatility(D_returns, weights)\n",
    "        risks.append(port_risk)\n",
    "        port_return = portfolio_return(D_returns, weights)\n",
    "        returns.append(port_return)\n",
    "        if port_risk < min_risk:\n",
    "            min_risk = port_risk\n",
    "            min_risk_weights = weights\n",
    "        if port_return/port_risk > max_sharp:\n",
    "            max_sharp = port_return/port_risk\n",
    "            max_sharp_weights = weights\n",
    "       # for x in range(len(efficient_risks)-1):\n",
    "      #      if port_risk > efficient_risks[x] and port_risk < efficient_risks[x+1] and port_return > efficient_returns[x]:\n",
    "     #           efficient_returns[x] = port_return\n",
    "    #            new_risk[x] = port_risk\n",
    "    \n",
    "    #del new_risk[-1]\n",
    "    #del efficient_returns[-1]\n",
    "    #deleted_amount = 0\n",
    "    #for x in range(len(efficient_returns)):\n",
    "    #    k = x-deleted_amount\n",
    "    #    if k>0 and efficient_returns[k] < max(efficient_returns[:k]) or efficient_returns[k] == 0:\n",
    "    #        del efficient_returns[k]\n",
    "    #        del new_risk[k]\n",
    "    #        deleted_amount += 1\n",
    "    #efficient_returns\n",
    "    #new_risk = np.array(new_risk)\n",
    "    #z = np.polyfit(new_risk, efficient_returns, 5)\n",
    "    #f = np.poly1d(z)\n",
    "    #f = interpolate.interp1d(new_risk, efficient_returns, kind='cubic') \n",
    "    #xnew = new_risk\n",
    "    #ynew = f(xnew) \n",
    "    \n",
    "    \n",
    "    returns = np.array(returns)\n",
    "    risks = np.array(risks)\n",
    "    portfolios = pd.DataFrame({'Return': returns, 'Volatility': risks})\n",
    "    portfolios.plot(x='Volatility', y='Return', kind='scatter', figsize=(10,6))\n",
    "    plt.xlabel('Expected Volatility')\n",
    "    plt.ylabel('Expected Return')\n",
    "    #plt.plot(xnew, ynew, 'k', linewidth=6.0)\n",
    "    Efficient_Frontier(new_daily_returns, 400)\n",
    "    Efficient_Frontier(D_returns, 400)\n",
    "    \n",
    "    port_minrisk = portfolio_volatility(D_returns, np.array(minimal_risk_weights))\n",
    "    port_return = portfolio_return(D_returns, minimal_risk_weights)\n",
    "    plt.scatter(port_minrisk,port_return,marker=(5,1,0),color='g',s=1000)\n",
    "    \n",
    "    #port_maxsharp = portfolio_volatility(assets, maximal_sharp_weights)\n",
    "    #port_return = portfolio_return(assets, maximal_sharp_weights)\n",
    "    #plt.scatter(port_maxsharp,port_return,marker=(5,1,0),color='r',s=1000)\n",
    "    \n",
    "    #plt.title(\"Minimal Risk and Maximal Sharp Ratio\")\n",
    "    plt.title(\"Minimal Risk Portfolios\")\n",
    "    p1 = plt.Rectangle((0, 0), 0.1, 0.1, fc='g')\n",
    "    #p2 = plt.Rectangle((0, 0), 0.1, 0.1, fc='r')\n",
    "\n",
    "    #plt.legend((p1, p2), ('Minimal Risk Portfolio', 'Maximal Sharp Ratio'), loc='best')\n",
    "    plt.legend((p1,), ('Minimal Risk Portfolio',), loc='best')\n",
    "    plt.show()\n",
    "    return [min_risk_weights, max_sharp_weights, minimal_risk_weights, maximal_sharp_weights]\n",
    "example_plot(daily_returns, 5000)"
   ]
  },
  {
   "cell_type": "markdown",
   "metadata": {
    "collapsed": true
   },
   "source": [
    "The first array is the best minimal risk portfolio out of the 25000 random portfolios.\n",
    "The third array represents the portfolio that was calculated in the minimal risk optimalization.\n",
    "The second array is the best maximal sharp ratio portfolio out of the 25000 random portfolios.\n",
    "The fourth array represents the portfolio that was calculated in the maximal sharp ratio optimalization."
   ]
  },
  {
   "cell_type": "markdown",
   "metadata": {},
   "source": [
    "### Different optimization techniques"
   ]
  },
  {
   "cell_type": "markdown",
   "metadata": {},
   "source": [
    "The objective function in case of the minimal risk portfolio is a quadratic and convex problem. "
   ]
  },
  {
   "cell_type": "code",
   "execution_count": 1106,
   "metadata": {},
   "outputs": [
    {
     "name": "stdout",
     "output_type": "stream",
     "text": [
      "[<29x1 matrix, tc='d'>, 0.01419541022159174]\n"
     ]
    }
   ],
   "source": [
    "from cvxopt import matrix\n",
    "from cvxopt.blas import dot\n",
    "from cvxopt.solvers import qp, options\n",
    "def convex_optimizer_weights(D_returns, minimal_return):\n",
    "    options['show_progress'] = False\n",
    "    n = len(D_returns.columns)\n",
    "    #log_returns = np.log(assets / assets.shift(1))\n",
    "    annual_returns = D_returns.mean() * 252\n",
    "    cov_matrix = D_returns.cov() * 252\n",
    "    cov_matrix = cov_matrix.values\n",
    "    annual_returns = matrix(annual_returns)\n",
    "    cov_matrix = matrix(cov_matrix)\n",
    "    P = cov_matrix\n",
    "    q = matrix(np.zeros((n, 1)))\n",
    "    #G = matrix(np.concatenate((\n",
    "    #             -np.transpose(np.array(annual_returns)), \n",
    "    #             -np.identity(n),np.identity(n)), 0))\n",
    "    #h = matrix(np.concatenate((\n",
    "    #             -np.ones((1,1))*minimal_return, \n",
    "    #              np.ones((n,1))*0.5,np.ones((n,1))*0.5), 0))\n",
    "    G = matrix(np.concatenate((\n",
    "                 -np.transpose(np.array(annual_returns)), \n",
    "                 -np.identity(n)), 0))\n",
    "    h = matrix(np.concatenate((\n",
    "                 -np.ones((1,1))*minimal_return, \n",
    "                  np.zeros((n,1))), 0))\n",
    "    A = matrix(1.0, (1,n))\n",
    "    b = matrix(1.0)\n",
    "    weights = qp(P, q, G, h, A, b)\n",
    "    return [weights['x'], weights['primal objective']]\n",
    "print convex_optimizer_weights(daily_returns, 0.25)\n"
   ]
  },
  {
   "cell_type": "code",
   "execution_count": null,
   "metadata": {},
   "outputs": [],
   "source": []
  },
  {
   "cell_type": "code",
   "execution_count": 1107,
   "metadata": {
    "collapsed": true
   },
   "outputs": [],
   "source": [
    "def convert_weights(weights):\n",
    "    optimum_weights = []\n",
    "    for x in weights[0]:\n",
    "            optimum_weights.append(x)\n",
    "    return optimum_weights"
   ]
  },
  {
   "cell_type": "code",
   "execution_count": 1108,
   "metadata": {},
   "outputs": [
    {
     "data": {
      "text/plain": [
       "<scipy.interpolate.interpolate.interp1d at 0x7faf15e8>"
      ]
     },
     "execution_count": 1108,
     "metadata": {},
     "output_type": "execute_result"
    },
    {
     "data": {
      "image/png": "[encoded data removed]",
      "text/plain": [
       "<matplotlib.figure.Figure at 0x7efd5d68>"
      ]
     },
     "metadata": {},
     "output_type": "display_data"
    }
   ],
   "source": [
    "def Efficient_Frontier(D_returns, amount_of_points, plot=True):\n",
    "    opt_returns = []\n",
    "    opt_risks = []\n",
    "    optimum_weights = []\n",
    "    minimal_risk_return = portfolio_return(D_returns, np.array(convert_weights(convex_optimizer_weights(D_returns,0))))\n",
    "    for i in range(amount_of_points):\n",
    "        optimum_weights = []\n",
    "        opt_weights = convex_optimizer_weights(D_returns, minimal_risk_return+i*(max_return(D_returns)-minimal_risk_return-0.03)/amount_of_points)\n",
    "        #opt_weights = np.array(opt_weights)\n",
    "        optimum_weights = convert_weights(opt_weights)\n",
    "        opt_returns.append(portfolio_return(D_returns, optimum_weights))\n",
    "        optimum_weights = np.array(optimum_weights)\n",
    "        #print optimum_weights\n",
    "        #opt_risks.append(np.sqrt(opt_weights[1]))\n",
    "        opt_risks.append(portfolio_volatility(D_returns, optimum_weights))\n",
    "    f = interpolate.interp1d(opt_risks, opt_returns, kind='cubic') \n",
    "    xnew = np.arange(opt_risks[0],opt_risks[-2],(opt_risks[-2]-opt_risks[0])/amount_of_points)\n",
    "    ynew = f(xnew)\n",
    "    plt.title(\"Efficient Frontier\")\n",
    "    plt.xlabel('Expected Volatility')\n",
    "    plt.ylabel('Expected Return')\n",
    "    if plot:\n",
    "        plt.plot(xnew, ynew, 'k', linewidth=2.0)\n",
    "    return f\n",
    "Efficient_Frontier(daily_returns, 400)"
   ]
  },
  {
   "cell_type": "markdown",
   "metadata": {},
   "source": [
    "### Risk free rate"
   ]
  },
  {
   "cell_type": "markdown",
   "metadata": {},
   "source": [
    "The risk free rate is taken as the 10 year yield of the US treasury bond. Current yield : [Bloomberg Markets](https://www.bloomberg.com/markets/rates-bonds/government-bonds/us)"
   ]
  },
  {
   "cell_type": "code",
   "execution_count": 1109,
   "metadata": {},
   "outputs": [
    {
     "data": {
      "text/html": [
       "<div>\n",
       "<style>\n",
       "    .dataframe thead tr:only-child th {\n",
       "        text-align: right;\n",
       "    }\n",
       "\n",
       "    .dataframe thead th {\n",
       "        text-align: left;\n",
       "    }\n",
       "\n",
       "    .dataframe tbody tr th {\n",
       "        vertical-align: top;\n",
       "    }\n",
       "</style>\n",
       "<table border=\"1\" class=\"dataframe\">\n",
       "  <thead>\n",
       "    <tr style=\"text-align: right;\">\n",
       "      <th></th>\n",
       "      <th>SBUX</th>\n",
       "      <th>GOOGL</th>\n",
       "      <th>ADBE</th>\n",
       "      <th>TRV</th>\n",
       "      <th>UNH</th>\n",
       "      <th>VZ</th>\n",
       "      <th>WMT</th>\n",
       "      <th>GS</th>\n",
       "      <th>DD</th>\n",
       "      <th>AXP</th>\n",
       "      <th>...</th>\n",
       "      <th>DIS</th>\n",
       "      <th>NKE</th>\n",
       "      <th>INTC</th>\n",
       "      <th>GE</th>\n",
       "      <th>PG</th>\n",
       "      <th>JNJ</th>\n",
       "      <th>HD</th>\n",
       "      <th>IBM</th>\n",
       "      <th>MMM</th>\n",
       "      <th>risk_free</th>\n",
       "    </tr>\n",
       "    <tr>\n",
       "      <th>Date</th>\n",
       "      <th></th>\n",
       "      <th></th>\n",
       "      <th></th>\n",
       "      <th></th>\n",
       "      <th></th>\n",
       "      <th></th>\n",
       "      <th></th>\n",
       "      <th></th>\n",
       "      <th></th>\n",
       "      <th></th>\n",
       "      <th></th>\n",
       "      <th></th>\n",
       "      <th></th>\n",
       "      <th></th>\n",
       "      <th></th>\n",
       "      <th></th>\n",
       "      <th></th>\n",
       "      <th></th>\n",
       "      <th></th>\n",
       "      <th></th>\n",
       "      <th></th>\n",
       "    </tr>\n",
       "  </thead>\n",
       "  <tbody>\n",
       "    <tr>\n",
       "      <th>2017-07-19</th>\n",
       "      <td>-0.001719</td>\n",
       "      <td>0.005880</td>\n",
       "      <td>0.006940</td>\n",
       "      <td>0.007381</td>\n",
       "      <td>0.012446</td>\n",
       "      <td>0.002073</td>\n",
       "      <td>-0.004340</td>\n",
       "      <td>-0.001972</td>\n",
       "      <td>0.015944</td>\n",
       "      <td>0.004783</td>\n",
       "      <td>...</td>\n",
       "      <td>0.010067</td>\n",
       "      <td>0.002079</td>\n",
       "      <td>0.000868</td>\n",
       "      <td>0.001858</td>\n",
       "      <td>-0.003277</td>\n",
       "      <td>0.005562</td>\n",
       "      <td>0.007398</td>\n",
       "      <td>-0.042921</td>\n",
       "      <td>0.003732</td>\n",
       "      <td>0.000092</td>\n",
       "    </tr>\n",
       "    <tr>\n",
       "      <th>2017-07-20</th>\n",
       "      <td>-0.001378</td>\n",
       "      <td>-0.000584</td>\n",
       "      <td>0.006826</td>\n",
       "      <td>-0.015058</td>\n",
       "      <td>0.012136</td>\n",
       "      <td>0.017566</td>\n",
       "      <td>0.001975</td>\n",
       "      <td>-0.002561</td>\n",
       "      <td>-0.006111</td>\n",
       "      <td>-0.006773</td>\n",
       "      <td>...</td>\n",
       "      <td>0.005042</td>\n",
       "      <td>0.022761</td>\n",
       "      <td>0.005483</td>\n",
       "      <td>-0.009323</td>\n",
       "      <td>0.002826</td>\n",
       "      <td>0.010008</td>\n",
       "      <td>-0.041760</td>\n",
       "      <td>0.000881</td>\n",
       "      <td>0.001649</td>\n",
       "      <td>0.000092</td>\n",
       "    </tr>\n",
       "    <tr>\n",
       "      <th>2017-07-21</th>\n",
       "      <td>-0.000862</td>\n",
       "      <td>0.001662</td>\n",
       "      <td>-0.002805</td>\n",
       "      <td>0.004645</td>\n",
       "      <td>0.001461</td>\n",
       "      <td>0.000226</td>\n",
       "      <td>0.001709</td>\n",
       "      <td>-0.009582</td>\n",
       "      <td>-0.003424</td>\n",
       "      <td>0.002808</td>\n",
       "      <td>...</td>\n",
       "      <td>-0.002518</td>\n",
       "      <td>0.014280</td>\n",
       "      <td>-0.000576</td>\n",
       "      <td>-0.029660</td>\n",
       "      <td>0.000113</td>\n",
       "      <td>-0.009269</td>\n",
       "      <td>-0.002588</td>\n",
       "      <td>-0.003936</td>\n",
       "      <td>-0.006091</td>\n",
       "      <td>0.000092</td>\n",
       "    </tr>\n",
       "    <tr>\n",
       "      <th>2017-07-24</th>\n",
       "      <td>0.000690</td>\n",
       "      <td>0.004488</td>\n",
       "      <td>0.000067</td>\n",
       "      <td>0.009780</td>\n",
       "      <td>-0.004652</td>\n",
       "      <td>-0.011826</td>\n",
       "      <td>0.009671</td>\n",
       "      <td>-0.009125</td>\n",
       "      <td>-0.002250</td>\n",
       "      <td>-0.006917</td>\n",
       "      <td>...</td>\n",
       "      <td>-0.000841</td>\n",
       "      <td>-0.016821</td>\n",
       "      <td>-0.006645</td>\n",
       "      <td>-0.018699</td>\n",
       "      <td>-0.004865</td>\n",
       "      <td>-0.017144</td>\n",
       "      <td>-0.014216</td>\n",
       "      <td>-0.007439</td>\n",
       "      <td>-0.005509</td>\n",
       "      <td>0.000092</td>\n",
       "    </tr>\n",
       "    <tr>\n",
       "      <th>2017-07-25</th>\n",
       "      <td>0.009093</td>\n",
       "      <td>-0.029768</td>\n",
       "      <td>-0.008867</td>\n",
       "      <td>0.008509</td>\n",
       "      <td>-0.002570</td>\n",
       "      <td>0.006158</td>\n",
       "      <td>0.020978</td>\n",
       "      <td>0.015463</td>\n",
       "      <td>0.013425</td>\n",
       "      <td>0.004812</td>\n",
       "      <td>...</td>\n",
       "      <td>-0.005435</td>\n",
       "      <td>0.007436</td>\n",
       "      <td>0.004915</td>\n",
       "      <td>0.000393</td>\n",
       "      <td>0.010828</td>\n",
       "      <td>-0.008532</td>\n",
       "      <td>0.016395</td>\n",
       "      <td>0.001369</td>\n",
       "      <td>-0.051845</td>\n",
       "      <td>0.000092</td>\n",
       "    </tr>\n",
       "  </tbody>\n",
       "</table>\n",
       "<p>5 rows × 30 columns</p>\n",
       "</div>"
      ],
      "text/plain": [
       "                SBUX     GOOGL      ADBE       TRV       UNH        VZ  \\\n",
       "Date                                                                     \n",
       "2017-07-19 -0.001719  0.005880  0.006940  0.007381  0.012446  0.002073   \n",
       "2017-07-20 -0.001378 -0.000584  0.006826 -0.015058  0.012136  0.017566   \n",
       "2017-07-21 -0.000862  0.001662 -0.002805  0.004645  0.001461  0.000226   \n",
       "2017-07-24  0.000690  0.004488  0.000067  0.009780 -0.004652 -0.011826   \n",
       "2017-07-25  0.009093 -0.029768 -0.008867  0.008509 -0.002570  0.006158   \n",
       "\n",
       "                 WMT        GS        DD       AXP    ...           DIS  \\\n",
       "Date                                                  ...                 \n",
       "2017-07-19 -0.004340 -0.001972  0.015944  0.004783    ...      0.010067   \n",
       "2017-07-20  0.001975 -0.002561 -0.006111 -0.006773    ...      0.005042   \n",
       "2017-07-21  0.001709 -0.009582 -0.003424  0.002808    ...     -0.002518   \n",
       "2017-07-24  0.009671 -0.009125 -0.002250 -0.006917    ...     -0.000841   \n",
       "2017-07-25  0.020978  0.015463  0.013425  0.004812    ...     -0.005435   \n",
       "\n",
       "                 NKE      INTC        GE        PG       JNJ        HD  \\\n",
       "Date                                                                     \n",
       "2017-07-19  0.002079  0.000868  0.001858 -0.003277  0.005562  0.007398   \n",
       "2017-07-20  0.022761  0.005483 -0.009323  0.002826  0.010008 -0.041760   \n",
       "2017-07-21  0.014280 -0.000576 -0.029660  0.000113 -0.009269 -0.002588   \n",
       "2017-07-24 -0.016821 -0.006645 -0.018699 -0.004865 -0.017144 -0.014216   \n",
       "2017-07-25  0.007436  0.004915  0.000393  0.010828 -0.008532  0.016395   \n",
       "\n",
       "                 IBM       MMM  risk_free  \n",
       "Date                                       \n",
       "2017-07-19 -0.042921  0.003732   0.000092  \n",
       "2017-07-20  0.000881  0.001649   0.000092  \n",
       "2017-07-21 -0.003936 -0.006091   0.000092  \n",
       "2017-07-24 -0.007439 -0.005509   0.000092  \n",
       "2017-07-25  0.001369 -0.051845   0.000092  \n",
       "\n",
       "[5 rows x 30 columns]"
      ]
     },
     "execution_count": 1109,
     "metadata": {},
     "output_type": "execute_result"
    }
   ],
   "source": [
    "risk_free_rate = 0.0232 # current 10 year yield on US treasury bond\n",
    "#risk_free_return = [100*(1+0.0232/252.0)**x for x in range(amount_of_trading_days)]\n",
    "risk_free_return = [0.0232/252.0 for x in range(len(daily_returns))]\n",
    "risk_free_return = np.array(risk_free_return)\n",
    "new_daily_returns = daily_returns.assign(risk_free=pd.Series(risk_free_return).values)\n",
    "new_daily_returns.tail()"
   ]
  },
  {
   "cell_type": "code",
   "execution_count": 1110,
   "metadata": {},
   "outputs": [
    {
     "data": {
      "text/plain": [
       "<scipy.interpolate.interpolate.interp1d at 0x804632c8>"
      ]
     },
     "execution_count": 1110,
     "metadata": {},
     "output_type": "execute_result"
    },
    {
     "data": {
      "image/png": "[encoded data removed]",
      "text/plain": [
       "<matplotlib.figure.Figure at 0x7ee76208>"
      ]
     },
     "metadata": {},
     "output_type": "display_data"
    }
   ],
   "source": [
    "Efficient_Frontier(new_daily_returns, 400)"
   ]
  },
  {
   "cell_type": "code",
   "execution_count": 1111,
   "metadata": {},
   "outputs": [
    {
     "name": "stdout",
     "output_type": "stream",
     "text": [
      "True True\n"
     ]
    }
   ],
   "source": [
    "def is_pos_def(x):\n",
    "    return np.all(np.linalg.eigvals(x) >= 0)\n",
    "print is_pos_def(portfolio_covariance_matrix(new_daily_returns)), is_pos_def(portfolio_covariance_matrix(daily_returns))"
   ]
  },
  {
   "cell_type": "markdown",
   "metadata": {
    "collapsed": true
   },
   "source": [
    "### Different risk parameters\n"
   ]
  },
  {
   "cell_type": "markdown",
   "metadata": {},
   "source": [
    "#### 1. VaR (Value at Risk)"
   ]
  },
  {
   "cell_type": "markdown",
   "metadata": {},
   "source": [
    "Value at risk describes the worst losses at a given confidence level $ \\alpha $ and over a given time period t. VaR can be calculated in two ways by taking the largest return in the $\\alpha$ % interval of worst returns or by assuming the returns are normal and deriving the VaR from the mean and standard deviation.\n",
    "\n",
    "First some functions that will be useful later are given."
   ]
  },
  {
   "cell_type": "code",
   "execution_count": 272,
   "metadata": {},
   "outputs": [
    {
     "data": {
      "text/plain": [
       "Date\n",
       "2009-01-05   -0.010760\n",
       "2009-01-06   -0.012958\n",
       "2009-01-07    0.025111\n",
       "2009-01-08   -0.023052\n",
       "2009-01-09    0.012220\n",
       "dtype: float64"
      ]
     },
     "execution_count": 272,
     "metadata": {},
     "output_type": "execute_result"
    }
   ],
   "source": [
    "def portfolio_daily_returns(assets, weights):\n",
    "    returns = (assets.shift(1) - assets)/ assets\n",
    "    portfolio_returns = returns.dot(weights)\n",
    "    return portfolio_returns.drop(portfolio_returns.index[0])\n",
    "portfolio_daily_returns(normalized_data, gen_random_weights(amount_of_assets)).head()"
   ]
  },
  {
   "cell_type": "markdown",
   "metadata": {},
   "source": [
    "First the VaR will be calculated by selecting the largest return in the lowest interval."
   ]
  },
  {
   "cell_type": "code",
   "execution_count": 257,
   "metadata": {},
   "outputs": [
    {
     "data": {
      "text/plain": [
       "-0.067497245133756031"
      ]
     },
     "execution_count": 257,
     "metadata": {},
     "output_type": "execute_result"
    }
   ],
   "source": [
    "def HistoricVaR(assets, weights, alpha):\n",
    "    return np.percentile(portfolio_daily_returns(assets,weights), alpha)\n",
    "HistoricVaR(normalized_data, gen_random_weights(amount_of_assets), 0.05)"
   ]
  },
  {
   "cell_type": "markdown",
   "metadata": {},
   "source": [
    "This method is more accurate than assuming a normal distribution because returns are not perfectly normal, but this method can not be used for optimization because every return is in function of the weights so it is unknown where the $ \\alpha $ interval ends."
   ]
  },
  {
   "cell_type": "markdown",
   "metadata": {},
   "source": [
    "By assuming the returns follow a normal distribution, the VaR can be calculated as: $ VaR = \\mu - F^{-1}(\\alpha)* \\sigma $. First a function to do this nurmerically then in function of the weights."
   ]
  },
  {
   "cell_type": "code",
   "execution_count": 258,
   "metadata": {},
   "outputs": [
    {
     "data": {
      "text/plain": [
       "-0.15483146492386771"
      ]
     },
     "execution_count": 258,
     "metadata": {},
     "output_type": "execute_result"
    }
   ],
   "source": [
    "def normalVaR(assets, weights, alpha):\n",
    "    var = portfolio_return(assets, weights) - norm.ppf(1-alpha) * portfolio_volatility(assets, weights)\n",
    "    return var\n",
    "normalVaR(normalized_data, gen_random_weights(amount_of_assets), 0.05)"
   ]
  },
  {
   "cell_type": "code",
   "execution_count": 259,
   "metadata": {
    "collapsed": true
   },
   "outputs": [],
   "source": [
    "def Var(x):\n",
    "    log_returns = np.log(normalized_data / normalized_data.shift(1))\n",
    "    annual_returns = log_returns.mean() * 252\n",
    "    cov_matrix = log_returns.cov() * 252\n",
    "    variable = []\n",
    "    for i in range(amount_of_assets):\n",
    "        variable.append(x[i])\n",
    "    variable = np.array(variable)\n",
    "    return -(np.sum(annual_returns * variable) - 1.65 * np.sqrt(np.dot(variable.T,np.dot(cov_matrix, variable))))\n"
   ]
  },
  {
   "cell_type": "code",
   "execution_count": 261,
   "metadata": {},
   "outputs": [
    {
     "name": "stdout",
     "output_type": "stream",
     "text": [
      "Optimization terminated successfully.    (Exit mode 0)\n",
      "            Current function value: 0.0883821335378\n",
      "            Iterations: 6\n",
      "            Function evaluations: 37\n",
      "            Gradient evaluations: 6\n",
      "[ 0.5         0.11224243  0.32576283  0.06199474] 0.284601931788 0.226050948682\n"
     ]
    }
   ],
   "source": [
    "minimal_Var_weights = optimize.fmin_slsqp(Var, initial_guess(normalized_data,1000)[2].tolist(),eqcons=[constraint1],\n",
    "                     bounds=gen_bounds(amount_of_assets))\n",
    "print minimal_Var_weights, portfolio_return(normalized_data, minimal_Var_weights),portfolio_volatility(normalized_data, minimal_Var_weights)"
   ]
  },
  {
   "cell_type": "markdown",
   "metadata": {},
   "source": [
    "#### Conditional Value at risk\n",
    "The Var expects the stocks returns to follow a perfect normal distribution. In reality when a stocks price falls hard it triggers other investors to sell, thus the large losses do not drop as quickly as the normal distribution supposes. Therefor it might be useful to take the expected value of the worst returns instead of the start of the 95% interval."
   ]
  },
  {
   "cell_type": "code",
   "execution_count": 262,
   "metadata": {},
   "outputs": [
    {
     "name": "stdout",
     "output_type": "stream",
     "text": [
      "-0.0730809112731 -0.0722376857957\n"
     ]
    }
   ],
   "source": [
    "def HistoricCVaR(assets, weights, alpha):\n",
    "    VaR = HistoricVaR(assets, weights, alpha)\n",
    "    cVaR = np.nanmean(portfolio_daily_returns(assets, weights)[portfolio_daily_returns(assets, weights) < VaR])\n",
    "    return cVaR\n",
    "weight = gen_random_weights(amount_of_assets)\n",
    "print HistoricCVaR(normalized_data, weight, 0.05) , HistoricVaR(normalized_data, weight, 0.05)"
   ]
  },
  {
   "cell_type": "code",
   "execution_count": 263,
   "metadata": {},
   "outputs": [],
   "source": [
    "def daily_returns(x):\n",
    "    data = []\n",
    "    returns = (normalized_data.shift(1) - normalized_data) / normalized_data\n",
    "    variable = []\n",
    "    for i in range(amount_of_assets):\n",
    "        variable.append(x[i])\n",
    "    variable = np.array(variable)\n",
    "    for i in range(len(normalized_data.index)):\n",
    "        data.append(-np.array(returns.iloc[i]).dot(variable))\n",
    "    return data\n",
    "#daily_returns(gen_random_weights(amount_of_assets))"
   ]
  },
  {
   "cell_type": "code",
   "execution_count": 264,
   "metadata": {},
   "outputs": [
    {
     "data": {
      "text/plain": [
       "2153"
      ]
     },
     "execution_count": 264,
     "metadata": {},
     "output_type": "execute_result"
    }
   ],
   "source": [
    "len(normalized_data.index)"
   ]
  },
  {
   "cell_type": "code",
   "execution_count": 265,
   "metadata": {},
   "outputs": [
    {
     "name": "stdout",
     "output_type": "stream",
     "text": [
      "[ 0.36579243  0.21782725  0.20113306  0.21524726] 102.753409759\n"
     ]
    }
   ],
   "source": [
    "weights = gen_random_weights(amount_of_assets)\n",
    "print weights, np.array(normalized_data.iloc[2]).dot(weights)"
   ]
  },
  {
   "cell_type": "code",
   "execution_count": 270,
   "metadata": {},
   "outputs": [
    {
     "data": {
      "text/plain": [
       "0.30992147979124512"
      ]
     },
     "execution_count": 270,
     "metadata": {},
     "output_type": "execute_result"
    }
   ],
   "source": [
    "def CVaR(x):\n",
    "    data = []\n",
    "    returns = (normalized_data.shift(1) - normalized_data) / normalized_data\n",
    "    variable = []\n",
    "    for i in range(amount_of_assets+1):\n",
    "        variable.append(x[i])\n",
    "    variable = np.array(variable)\n",
    "    for i in range(len(normalized_data.index)):\n",
    "        data.append(np.array(returns.iloc[i]).dot(variable[0:-1]))\n",
    "    som = 0\n",
    "    for i in range(len(normalized_data.index)):\n",
    "        if i>0:\n",
    "        #not np.isnan(max(data[i]-variable[0],0)): \n",
    "            som += max(data[i]-variable[-1],0)\n",
    "    som = som/float(len(normalized_data.index))\n",
    "    #print som\n",
    "    return variable[-1] + 1/(1-0.95) * som\n",
    "CVaR(gen_random_weights(amount_of_assets+1))\n",
    "    "
   ]
  },
  {
   "cell_type": "code",
   "execution_count": 267,
   "metadata": {
    "collapsed": true
   },
   "outputs": [],
   "source": [
    "def bounds(amount):\n",
    "    bounds = []\n",
    "    for i in range(amount):\n",
    "        bounds.append((0,0.5))\n",
    "    bounds.append((-0.5,0.5))\n",
    "    return bounds"
   ]
  },
  {
   "cell_type": "code",
   "execution_count": 271,
   "metadata": {},
   "outputs": [
    {
     "name": "stdout",
     "output_type": "stream",
     "text": [
      "Optimization terminated successfully.    (Exit mode 0)\n",
      "            Current function value: 0.0308142710345\n",
      "            Iterations: 21\n",
      "            Function evaluations: 157\n",
      "            Gradient evaluations: 21\n",
      "[ 0.3701338   0.35040658  0.09244963  0.18700999  0.02136954] 0.224527216235 0.205744321127 -0.0626853116943\n"
     ]
    }
   ],
   "source": [
    "minimal_CVaR_weights = optimize.fmin_slsqp(CVaR, initial_guess(normalized_data,1000)[3].tolist(),eqcons=[constraint1],\n",
    "                     bounds=bounds(amount_of_assets))\n",
    "print minimal_CVaR_weights, portfolio_return(normalized_data, minimal_CVaR_weights[:-1]),portfolio_volatility(normalized_data, minimal_CVaR_weights[:-1]),HistoricCVaR(normalized_data,  minimal_CVaR_weights[:-1], 0.05)"
   ]
  },
  {
   "cell_type": "code",
   "execution_count": null,
   "metadata": {
    "collapsed": true
   },
   "outputs": [],
   "source": []
  }
 ],
 "metadata": {
  "kernelspec": {
   "display_name": "Python 2",
   "language": "python",
   "name": "python2"
  },
  "language_info": {
   "codemirror_mode": {
    "name": "ipython",
    "version": 2
   },
   "file_extension": ".py",
   "mimetype": "text/x-python",
   "name": "python",
   "nbconvert_exporter": "python",
   "pygments_lexer": "ipython2",
   "version": "2.7.13"
  }
 },
 "nbformat": 4,
 "nbformat_minor": 2
}

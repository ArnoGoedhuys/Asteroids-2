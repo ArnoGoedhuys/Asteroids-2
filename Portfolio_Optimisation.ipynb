{
 "cells": [
  {
   "cell_type": "markdown",
   "metadata": {},
   "source": [
    "## Portfolio Optimalization - Asset Management\n",
    "#### Arno Goedhuys /  r0636556 / 29 juni 2017"
   ]
  },
  {
   "cell_type": "code",
   "execution_count": 17,
   "metadata": {
    "collapsed": true
   },
   "outputs": [],
   "source": [
    "import numpy as np\n",
    "import pandas as pd\n",
    "from pandas_datareader import data as wb\n",
    "import matplotlib.pyplot as plt\n",
    "from scipy import optimize\n",
    "from scipy.stats import norm\n",
    "%matplotlib inline"
   ]
  },
  {
   "cell_type": "markdown",
   "metadata": {},
   "source": [
    "#### Downloading the data\n",
    "The data is downloaded from google finance. \n",
    "<p> The time interval runs from the first of january 2009 to the current date."
   ]
  },
  {
   "cell_type": "code",
   "execution_count": 2,
   "metadata": {
    "collapsed": true
   },
   "outputs": [],
   "source": [
    "assets = ['AAPL','MSFT','AMZN','YHOO']\n",
    "amount_of_assets = len(assets)\n",
    "pf_data = pd.DataFrame()\n",
    "\n",
    "for asset in assets:\n",
    "    pf_data[asset] = wb.DataReader(asset, data_source = 'google', start='2009-1-1')['Close']"
   ]
  },
  {
   "cell_type": "code",
   "execution_count": 3,
   "metadata": {},
   "outputs": [
    {
     "data": {
      "text/html": [
       "<div>\n",
       "<style>\n",
       "    .dataframe thead tr:only-child th {\n",
       "        text-align: right;\n",
       "    }\n",
       "\n",
       "    .dataframe thead th {\n",
       "        text-align: left;\n",
       "    }\n",
       "\n",
       "    .dataframe tbody tr th {\n",
       "        vertical-align: top;\n",
       "    }\n",
       "</style>\n",
       "<table border=\"1\" class=\"dataframe\">\n",
       "  <thead>\n",
       "    <tr style=\"text-align: right;\">\n",
       "      <th></th>\n",
       "      <th>AAPL</th>\n",
       "      <th>MSFT</th>\n",
       "      <th>AMZN</th>\n",
       "      <th>YHOO</th>\n",
       "    </tr>\n",
       "    <tr>\n",
       "      <th>Date</th>\n",
       "      <th></th>\n",
       "      <th></th>\n",
       "      <th></th>\n",
       "      <th></th>\n",
       "    </tr>\n",
       "  </thead>\n",
       "  <tbody>\n",
       "    <tr>\n",
       "      <th>2017-07-13</th>\n",
       "      <td>147.77</td>\n",
       "      <td>71.77</td>\n",
       "      <td>1000.63</td>\n",
       "      <td>56.46</td>\n",
       "    </tr>\n",
       "    <tr>\n",
       "      <th>2017-07-14</th>\n",
       "      <td>149.04</td>\n",
       "      <td>72.78</td>\n",
       "      <td>1001.81</td>\n",
       "      <td>57.23</td>\n",
       "    </tr>\n",
       "    <tr>\n",
       "      <th>2017-07-17</th>\n",
       "      <td>149.56</td>\n",
       "      <td>73.35</td>\n",
       "      <td>1010.04</td>\n",
       "      <td>57.51</td>\n",
       "    </tr>\n",
       "    <tr>\n",
       "      <th>2017-07-18</th>\n",
       "      <td>150.08</td>\n",
       "      <td>73.30</td>\n",
       "      <td>1024.45</td>\n",
       "      <td>58.48</td>\n",
       "    </tr>\n",
       "    <tr>\n",
       "      <th>2017-07-19</th>\n",
       "      <td>151.02</td>\n",
       "      <td>73.86</td>\n",
       "      <td>1026.87</td>\n",
       "      <td>58.36</td>\n",
       "    </tr>\n",
       "  </tbody>\n",
       "</table>\n",
       "</div>"
      ],
      "text/plain": [
       "              AAPL   MSFT     AMZN   YHOO\n",
       "Date                                     \n",
       "2017-07-13  147.77  71.77  1000.63  56.46\n",
       "2017-07-14  149.04  72.78  1001.81  57.23\n",
       "2017-07-17  149.56  73.35  1010.04  57.51\n",
       "2017-07-18  150.08  73.30  1024.45  58.48\n",
       "2017-07-19  151.02  73.86  1026.87  58.36"
      ]
     },
     "execution_count": 3,
     "metadata": {},
     "output_type": "execute_result"
    }
   ],
   "source": [
    "pf_data.tail()"
   ]
  },
  {
   "cell_type": "markdown",
   "metadata": {},
   "source": [
    "#### Normalize data\n",
    "Devide each value of each asset by its initial value and multipy by 100 so each asset starts with a value of 100. <p> Plot the evolution of each asset."
   ]
  },
  {
   "cell_type": "code",
   "execution_count": 4,
   "metadata": {},
   "outputs": [
    {
     "data": {
      "text/plain": [
       "<matplotlib.axes._subplots.AxesSubplot at 0xafd45c0>"
      ]
     },
     "execution_count": 4,
     "metadata": {},
     "output_type": "execute_result"
    },
    {
     "data": {
      "image/png": "[encoded data removed]",
      "text/plain": [
       "<matplotlib.figure.Figure at 0xafd4e10>"
      ]
     },
     "metadata": {},
     "output_type": "display_data"
    }
   ],
   "source": [
    "normalized_data = pf_data / pf_data.iloc[0] * 100\n",
    "(normalized_data).plot(figsize=(10,5))"
   ]
  },
  {
   "cell_type": "markdown",
   "metadata": {},
   "source": [
    "#### Calculate the return and risk of a portfolio given the portfolio's assets and their respective weights\n",
    "A function to generate a given amount of random weights while making sure the sum of the weights equals 1."
   ]
  },
  {
   "cell_type": "code",
   "execution_count": 5,
   "metadata": {},
   "outputs": [
    {
     "name": "stdout",
     "output_type": "stream",
     "text": [
      "[ 0.15043926  0.07416228  0.20434251  0.57105596]\n"
     ]
    }
   ],
   "source": [
    "def gen_random_weights(amount):\n",
    "    weights = np.random.random(amount)\n",
    "    weights /= np.sum(weights)\n",
    "    return weights\n",
    "print gen_random_weights(amount_of_assets)"
   ]
  },
  {
   "cell_type": "markdown",
   "metadata": {},
   "source": [
    "A function to calculate the expected annual return of the portfolio.\n",
    "The expected annual return of a portfolio can be calculated as: $$ p = w^T*E(r) $$\n",
    "Where w is the weights of the respective portfolios and E(r) the expected anual returns of the assets.\n",
    "The expected anual return of an individual asset is calculated as the expected daily return times 252 which is the amount of trading days. The expected daily return is calculated as the expected value of the logarithm of the assets current value devided by its previous value. So the expected anual return of an asset is given by: $$ E(r) = 252 * E(\\log(P_i/P_{i+1})) $$\n",
    "Where $P_i$ represents the assets price on day i and $P_{i+1}$ the assets price on day i+1."
   ]
  },
  {
   "cell_type": "code",
   "execution_count": 6,
   "metadata": {},
   "outputs": [
    {
     "data": {
      "text/plain": [
       "0.2310955766214488"
      ]
     },
     "execution_count": 6,
     "metadata": {},
     "output_type": "execute_result"
    }
   ],
   "source": [
    "def portfolio_return(assets, weights):\n",
    "    log_returns = np.log(assets / assets.shift(1))\n",
    "    annual_returns = log_returns.mean() * 252\n",
    "    total_return = np.sum(annual_returns * weights)\n",
    "    return total_return\n",
    "\n",
    "portfolio_return(normalized_data, gen_random_weights(amount_of_assets))"
   ]
  },
  {
   "cell_type": "markdown",
   "metadata": {},
   "source": [
    "A function to calculate the expected volatility of a portfolio. The volatility is modelled as the standard deviation of portfolios returns. This be calculated as: $$ \\sigma^2 = w^T*C*w $$\n",
    "Where w is again the weights of the assets and C is the covariance matrix of the returns."
   ]
  },
  {
   "cell_type": "code",
   "execution_count": 7,
   "metadata": {},
   "outputs": [
    {
     "data": {
      "text/plain": [
       "0.20814658151819809"
      ]
     },
     "execution_count": 7,
     "metadata": {},
     "output_type": "execute_result"
    }
   ],
   "source": [
    "def portfolio_volatility(assets, weights):\n",
    "    log_returns = np.log(assets / assets.shift(1))\n",
    "    cov_matrix = log_returns.cov() * 252\n",
    "    total_volatility = np.sqrt(np.dot(weights.T,np.dot(cov_matrix, weights)))\n",
    "    return total_volatility\n",
    "\n",
    "portfolio_volatility(normalized_data, gen_random_weights(amount_of_assets))"
   ]
  },
  {
   "cell_type": "markdown",
   "metadata": {},
   "source": [
    "#### Functions to return the parameters that need to be optimized with their weights as variables \n",
    "They are all calculated the same way as their numeric functions previously defined only the weights are variables instead of numeric values. Parameters that have to be maximized are taken negatively because the optimizations look for minimal values and the weights that give the maximal value are the same weights that given the minimal negative value."
   ]
  },
  {
   "cell_type": "markdown",
   "metadata": {},
   "source": [
    "The return in function of the weights."
   ]
  },
  {
   "cell_type": "code",
   "execution_count": 8,
   "metadata": {
    "collapsed": true
   },
   "outputs": [],
   "source": [
    "def returns(x):\n",
    "    log_returns = np.log(normalized_data / normalized_data.shift(1))\n",
    "    annual_returns = log_returns.mean() * 252\n",
    "    variable = []\n",
    "    for i in range(amount_of_assets):\n",
    "        variable.append(x[i])\n",
    "    variable = np.array(variable)\n",
    "    return -np.sum(annual_returns * variable)"
   ]
  },
  {
   "cell_type": "markdown",
   "metadata": {},
   "source": [
    "The risk in function of the weights."
   ]
  },
  {
   "cell_type": "code",
   "execution_count": 9,
   "metadata": {
    "collapsed": true
   },
   "outputs": [],
   "source": [
    "def risk(x):\n",
    "    log_returns = np.log(normalized_data / normalized_data.shift(1))\n",
    "    cov_matrix = log_returns.cov() * 252\n",
    "    variable = []\n",
    "    for i in range(amount_of_assets):\n",
    "        variable.append(x[i])\n",
    "    variable = np.array(variable)\n",
    "    return np.sqrt(np.dot(variable.T,np.dot(cov_matrix, variable)))\n"
   ]
  },
  {
   "cell_type": "markdown",
   "metadata": {},
   "source": [
    "The sharp ratio in function of the weights. The sharp ratio is the return devided by the risk."
   ]
  },
  {
   "cell_type": "code",
   "execution_count": 10,
   "metadata": {
    "collapsed": true
   },
   "outputs": [],
   "source": [
    "def sharp(x):\n",
    "    log_returns = np.log(normalized_data / normalized_data.shift(1))\n",
    "    annual_returns = log_returns.mean() * 252\n",
    "    cov_matrix = log_returns.cov() * 252\n",
    "    variable = []\n",
    "    for i in range(amount_of_assets):\n",
    "        variable.append(x[i])\n",
    "    variable = np.array(variable)\n",
    "    return -(np.sum(annual_returns * variable)) / (np.sqrt(np.dot(variable.T,np.dot(cov_matrix, variable)))) "
   ]
  },
  {
   "cell_type": "markdown",
   "metadata": {},
   "source": [
    "#### Extra funtions usefull for the optimization\n"
   ]
  },
  {
   "cell_type": "markdown",
   "metadata": {},
   "source": [
    "The contraint for the optimization, that the sum of the weights must be equal to one. "
   ]
  },
  {
   "cell_type": "code",
   "execution_count": 11,
   "metadata": {
    "collapsed": true
   },
   "outputs": [],
   "source": [
    "def constraint12(x):\n",
    "    variable = []\n",
    "    for i in range(amount_of_assets):\n",
    "        variable.append(x[i])\n",
    "    variable = np.array(variable)\n",
    "    return np.sum(variable) - 1"
   ]
  },
  {
   "cell_type": "markdown",
   "metadata": {},
   "source": [
    "A function to generate the valid interval for each weight."
   ]
  },
  {
   "cell_type": "code",
   "execution_count": 12,
   "metadata": {
    "collapsed": true
   },
   "outputs": [],
   "source": [
    "def gen_bounds(amount):\n",
    "    bounds = []\n",
    "    for i in range(amount):\n",
    "        bounds.append((0,0.5))\n",
    "    return bounds"
   ]
  },
  {
   "cell_type": "markdown",
   "metadata": {},
   "source": [
    "Make an initial guess by brute force to give the optimazation a good starting point."
   ]
  },
  {
   "cell_type": "code",
   "execution_count": 32,
   "metadata": {
    "collapsed": true
   },
   "outputs": [],
   "source": [
    "def initial_guess(assets, amount_of_samples):\n",
    "    min_risk = 1\n",
    "    min_risk_weights = gen_random_weights(amount_of_assets)\n",
    "    max_sharp = 0\n",
    "    max_sharp_weights = gen_random_weights(amount_of_assets)\n",
    "    max_VaR = -1\n",
    "    max_VaR_weights = gen_random_weights(amount_of_assets)\n",
    "    for x in range(amount_of_samples):\n",
    "        weights = gen_random_weights(amount_of_assets)\n",
    "        port_risk = portfolio_volatility(assets, weights)\n",
    "        port_return = portfolio_return(assets, weights)\n",
    "        port_VaR = HistoricVaR(assets, weights, 0.05)\n",
    "        if port_risk < min_risk:\n",
    "            min_risk = port_risk\n",
    "            min_risk_weights = weights\n",
    "        if port_return/port_risk > max_sharp:\n",
    "            max_sharp = port_return/port_risk\n",
    "            max_sharp_weights = weights\n",
    "        if port_VaR > max_VaR:\n",
    "            max_VaR = port_VaR\n",
    "            max_VaR_weights = weights\n",
    "    return [min_risk_weights, max_sharp_weights, max_VaR_weights]"
   ]
  },
  {
   "cell_type": "markdown",
   "metadata": {},
   "source": [
    "#### The optimizations\n",
    "The optimization for the minimal risk portfolio. The extra constraints that each weight lies between 0 and 0.5 are set by the \n",
    "bounds attribute. The optimization used is the sequantial least squares programming. The site PyOpt explains it as:\n",
    "> SLSQP optimizer is a sequential least squares programming algorithm which uses the Han–Powell quasi–Newton method with a BFGS update of the B–matrix and an L1–test function in the step–length algorithm. The optimizer uses a slightly modified version of Lawson and Hanson’s NNLS nonlinear least-squares solver. \n",
    ">\n",
    "> [PyOpt](http://www.pyopt.org/reference/optimizers.slsqp.html)"
   ]
  },
  {
   "cell_type": "code",
   "execution_count": 14,
   "metadata": {},
   "outputs": [
    {
     "name": "stdout",
     "output_type": "stream",
     "text": [
      "Optimization terminated successfully.    (Exit mode 0)\n",
      "            Current function value: 0.205331146826\n",
      "            Iterations: 3\n",
      "            Function evaluations: 18\n",
      "            Gradient evaluations: 3\n"
     ]
    }
   ],
   "source": [
    "minimal_risk_weights = optimize.fmin_slsqp(risk, initial_guess(normalized_data,1000)[0].tolist(),eqcons=[constraint12],\n",
    "                     bounds=gen_bounds(amount_of_assets))"
   ]
  },
  {
   "cell_type": "markdown",
   "metadata": {},
   "source": [
    "The optimization for the maximal sharp portfolio. The same algorithm is used as with the minimal risk."
   ]
  },
  {
   "cell_type": "code",
   "execution_count": 15,
   "metadata": {},
   "outputs": [
    {
     "name": "stdout",
     "output_type": "stream",
     "text": [
      "Positive directional derivative for linesearch    (Exit mode 8)\n",
      "            Current function value: -1.27290968808\n",
      "            Iterations: 5\n",
      "            Function evaluations: 6\n",
      "            Gradient evaluations: 1\n"
     ]
    },
    {
     "data": {
      "text/plain": [
       "array([  5.82859847e-01,   2.37379118e-03,   4.14385231e-01,\n",
       "         3.81130187e-04])"
      ]
     },
     "execution_count": 15,
     "metadata": {},
     "output_type": "execute_result"
    }
   ],
   "source": [
    "maximal_sharp_weights = optimize.fmin_slsqp(sharp, initial_guess(normalized_data,1000)[1].tolist(),eqcons=[constraint12],\n",
    "                     bounds=gen_bounds(amount_of_assets))\n",
    "maximal_sharp_weights"
   ]
  },
  {
   "cell_type": "markdown",
   "metadata": {},
   "source": [
    "#### The results\n",
    "The two optimized portfolios are plotted on a graph with the x axis the expected risk and the y axis the expected return. To illustrate that these are valid values 25000 other portfolio's with random weights are also plotted on the same graph. Out of the 25000 random portfolio's the one with the minimal risk is selected and returned to verify with the calculated weights, the same is done for the maximal sharp. "
   ]
  },
  {
   "cell_type": "code",
   "execution_count": 16,
   "metadata": {},
   "outputs": [
    {
     "data": {
      "image/png": "[encoded data removed]",
      "text/plain": [
       "<matplotlib.figure.Figure at 0xb8fc048>"
      ]
     },
     "metadata": {},
     "output_type": "display_data"
    },
    {
     "data": {
      "text/plain": [
       "[array([ 0.33970623,  0.42105921,  0.07023087,  0.16900369]),\n",
       " array([ 0.57080544,  0.02183002,  0.40456861,  0.00279593]),\n",
       " array([ 0.3336254 ,  0.41691606,  0.07957403,  0.16988451]),\n",
       " array([  5.82859847e-01,   2.37379118e-03,   4.14385231e-01,\n",
       "          3.81130187e-04])]"
      ]
     },
     "execution_count": 16,
     "metadata": {},
     "output_type": "execute_result"
    }
   ],
   "source": [
    "def example_plot(assets, amount_of_samples):\n",
    "    returns = []\n",
    "    risks = []\n",
    "    min_risk = 1\n",
    "    min_risk_weights = gen_random_weights(amount_of_assets)\n",
    "    max_sharp = 0\n",
    "    max_sharp_weights = gen_random_weights(amount_of_assets)\n",
    "    for x in range(amount_of_samples):\n",
    "        weights = gen_random_weights(amount_of_assets)\n",
    "        port_risk = portfolio_volatility(assets, weights)\n",
    "        risks.append(port_risk)\n",
    "        port_return = portfolio_return(assets, weights)\n",
    "        returns.append(port_return)\n",
    "        if port_risk < min_risk:\n",
    "            min_risk = port_risk\n",
    "            min_risk_weights = weights\n",
    "        if port_return/port_risk > max_sharp:\n",
    "            max_sharp = port_return/port_risk\n",
    "            max_sharp_weights = weights\n",
    "    returns = np.array(returns)\n",
    "    risks = np.array(risks)\n",
    "    portfolios = pd.DataFrame({'Return': returns, 'Volatility': risks})\n",
    "    portfolios.plot(x='Volatility', y='Return', kind='scatter', figsize=(10,6));\n",
    "    plt.xlabel('Expected Volatility')\n",
    "    plt.ylabel('Expected Return')\n",
    "    \n",
    "    port_minrisk = portfolio_volatility(assets, minimal_risk_weights)\n",
    "    port_return = portfolio_return(assets, minimal_risk_weights)\n",
    "    plt.scatter(port_minrisk,port_return,marker=(5,1,0),color='g',s=1000)\n",
    "    \n",
    "    port_maxsharp = portfolio_volatility(assets, maximal_sharp_weights)\n",
    "    port_return = portfolio_return(assets, maximal_sharp_weights)\n",
    "    plt.scatter(port_maxsharp,port_return,marker=(5,1,0),color='r',s=1000)\n",
    "    \n",
    "    plt.title(\"Minimal Risk and Maximal Sharp Ratio\")\n",
    "    p1 = plt.Rectangle((0, 0), 0.1, 0.1, fc='g')\n",
    "    p2 = plt.Rectangle((0, 0), 0.1, 0.1, fc='r')\n",
    "\n",
    "    plt.legend((p1, p2), ('Minimal Risk Portfolio', 'Maximal Sharp Ratio'), loc='best')\n",
    "    plt.show()\n",
    "    return [min_risk_weights, max_sharp_weights, minimal_risk_weights, maximal_sharp_weights]\n",
    "example_plot(normalized_data, 10000)"
   ]
  },
  {
   "cell_type": "markdown",
   "metadata": {
    "collapsed": true
   },
   "source": [
    "The first array is the best minimal risk portfolio out of the 25000 random portfolios.\n",
    "The third array represents the portfolio that was calculated in the minimal risk optimalization.\n",
    "The second array is the best maximal sharp ratio portfolio out of the 25000 random portfolios.\n",
    "The fourth array represents the portfolio that was calculated in the maximal sharp ratio optimalization."
   ]
  },
  {
   "cell_type": "markdown",
   "metadata": {
    "collapsed": true
   },
   "source": [
    "### Different risk parameters\n"
   ]
  },
  {
   "cell_type": "markdown",
   "metadata": {},
   "source": [
    "#### 1. VaR (Value at Risk)"
   ]
  },
  {
   "cell_type": "markdown",
   "metadata": {},
   "source": [
    "Value at risk describes the worst losses at a given confidence level $ \\alpha $ and over a given time period t. VaR can be calculated in two ways by taking the largest return in the $\\alpha$ % interval of worst returns or by assuming the returns are normal and deriving the VaR from the mean and standard deviation.\n",
    "\n",
    "First some functions that will be useful later are given."
   ]
  },
  {
   "cell_type": "code",
   "execution_count": 25,
   "metadata": {},
   "outputs": [
    {
     "data": {
      "text/plain": [
       "Date\n",
       "2009-01-05   -0.008125\n",
       "2009-01-06   -0.019191\n",
       "2009-01-07    0.034960\n",
       "2009-01-08   -0.024005\n",
       "2009-01-09    0.020065\n",
       "dtype: float64"
      ]
     },
     "execution_count": 25,
     "metadata": {},
     "output_type": "execute_result"
    }
   ],
   "source": [
    "def portfolio_daily_returns(assets, weights):\n",
    "    returns = (assets.shift(1) - assets)/ assets\n",
    "    portfolio_returns = returns.dot(weights)\n",
    "    return portfolio_returns.drop(portfolio_returns.index[0])\n",
    "portfolio_daily_returns(normalized_data, gen_random_weights(amount_of_assets)).head()"
   ]
  },
  {
   "cell_type": "markdown",
   "metadata": {},
   "source": [
    "First the VaR will be calculated by selecting the largest return in the lowest interval."
   ]
  },
  {
   "cell_type": "code",
   "execution_count": 26,
   "metadata": {},
   "outputs": [
    {
     "data": {
      "text/plain": [
       "-0.06934359973320342"
      ]
     },
     "execution_count": 26,
     "metadata": {},
     "output_type": "execute_result"
    }
   ],
   "source": [
    "def HistoricVaR(assets, weights, alpha):\n",
    "    return np.percentile(portfolio_daily_returns(assets,weights), alpha)\n",
    "HistoricVaR(normalized_data, gen_random_weights(amount_of_assets), 0.05)"
   ]
  },
  {
   "cell_type": "markdown",
   "metadata": {},
   "source": [
    "This method is more accurate than assuming a normal distribution because returns are not perfectly normal, but this method can not be used for optimization because every return is in function of the weights so it is unknown where the $ \\alpha $ interval ends."
   ]
  },
  {
   "cell_type": "markdown",
   "metadata": {},
   "source": [
    "By assuming the returns follow a normal distribution, the VaR can be calculated as: $ VaR = \\mu - F^{-1}(\\alpha)* \\sigma $. First a function to do this nurmerically then in function of the weights."
   ]
  },
  {
   "cell_type": "code",
   "execution_count": 29,
   "metadata": {},
   "outputs": [
    {
     "data": {
      "text/plain": [
       "-0.10678476005453974"
      ]
     },
     "execution_count": 29,
     "metadata": {},
     "output_type": "execute_result"
    }
   ],
   "source": [
    "def normalVaR(assets, weights, alpha):\n",
    "    var = portfolio_return(assets, weights) - norm.ppf(1-alpha) * portfolio_volatility(assets, weights)\n",
    "    return var\n",
    "normalVaR(normalized_data, gen_random_weights(amount_of_assets), 0.05)"
   ]
  },
  {
   "cell_type": "code",
   "execution_count": 40,
   "metadata": {
    "collapsed": true
   },
   "outputs": [],
   "source": [
    "def Var(x):\n",
    "    log_returns = np.log(normalized_data / normalized_data.shift(1))\n",
    "    annual_returns = log_returns.mean() * 252\n",
    "    cov_matrix = log_returns.cov() * 252\n",
    "    variable = []\n",
    "    for i in range(amount_of_assets):\n",
    "        variable.append(x[i])\n",
    "    variable = np.array(variable)\n",
    "    return -(np.sum(annual_returns * variable) - 1.65 * np.sqrt(np.dot(variable.T,np.dot(cov_matrix, variable))))\n"
   ]
  },
  {
   "cell_type": "code",
   "execution_count": 41,
   "metadata": {},
   "outputs": [
    {
     "name": "stdout",
     "output_type": "stream",
     "text": [
      "Optimization terminated successfully.    (Exit mode 0)\n",
      "            Current function value: 0.088991140049\n",
      "            Iterations: 6\n",
      "            Function evaluations: 36\n",
      "            Gradient evaluations: 6\n",
      "[ 0.5         0.11397355  0.32363314  0.06239331] 0.283809871012 0.225940006704\n"
     ]
    }
   ],
   "source": [
    "minimal_Var_weights = optimize.fmin_slsqp(Var, initial_guess(normalized_data,1000)[2].tolist(),eqcons=[constraint12],\n",
    "                     bounds=gen_bounds(amount_of_assets))\n",
    "print minimal_Var_weights, portfolio_return(normalized_data, minimal_Var_weights),portfolio_volatility(normalized_data, minimal_Var_weights)"
   ]
  },
  {
   "cell_type": "markdown",
   "metadata": {},
   "source": [
    "#### Conditional Value at risk\n",
    "The Var expects the stocks returns to follow a perfect normal distribution. In reality when a stocks price falls hard it triggers other investors to sell, thus the large losses do not drop as quickly as the normal distribution supposes. Therefor it might be useful to take the expected value of the worst returns instead of the start of the 95% interval."
   ]
  },
  {
   "cell_type": "code",
   "execution_count": 59,
   "metadata": {},
   "outputs": [
    {
     "name": "stdout",
     "output_type": "stream",
     "text": [
      "-0.0717708726775 -0.0670738979979\n"
     ]
    }
   ],
   "source": [
    "def CVaR(assets, weights, alpha):\n",
    "    VaR = HistoricVaR(assets, weights, alpha)\n",
    "    cVaR = np.nanmean(portfolio_daily_returns(assets, weights)[portfolio_daily_returns(assets, weights) < VaR])\n",
    "    return cVaR\n",
    "weight = gen_random_weights(amount_of_assets)\n",
    "print CVaR(normalized_data, weight, 0.05) , HistoricVaR(normalized_data, weight, 0.05)"
   ]
  },
  {
   "cell_type": "code",
   "execution_count": null,
   "metadata": {
    "collapsed": true
   },
   "outputs": [],
   "source": []
  }
 ],
 "metadata": {
  "kernelspec": {
   "display_name": "Python 2",
   "language": "python",
   "name": "python2"
  },
  "language_info": {
   "codemirror_mode": {
    "name": "ipython",
    "version": 2
   },
   "file_extension": ".py",
   "mimetype": "text/x-python",
   "name": "python",
   "nbconvert_exporter": "python",
   "pygments_lexer": "ipython2",
   "version": "2.7.13"
  }
 },
 "nbformat": 4,
 "nbformat_minor": 2
}
